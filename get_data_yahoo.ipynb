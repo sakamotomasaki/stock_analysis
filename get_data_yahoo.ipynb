{
 "cells": [
  {
   "cell_type": "markdown",
   "id": "e3a4fb95",
   "metadata": {},
   "source": [
    "# get_data_yahoo\n",
    "## 概要\n",
    "- pandas_datareader, yfinanceを用いる\n",
    "- yahoo financeより株価データを取得する\n",
    "- 株価データをcsvファイルに保存する\n",
    "## 参考\n",
    "### Pythonで日本の株価を取得する方法\n",
    "* https://techblog.gmo-ap.jp/2022/06/07/pythonstockdata/\n",
    "### yahoo financeでの株価取得\n",
    "* https://finance.yahoo.com/quote/4784.T/history?p=4784.T\n",
    "### install packages\n",
    "* python -m pip install -U --force-reinstall yfinance"
   ]
  },
  {
   "cell_type": "code",
   "execution_count": 1,
   "id": "28deaf6a",
   "metadata": {},
   "outputs": [],
   "source": [
    "import os\n",
    "import datetime as dt\n",
    "import pandas as pd\n",
    "#import pandas_datareader as pdr\n",
    "from pandas_datareader import data as pdr\n",
    "import yfinance as yf "
   ]
  },
  {
   "cell_type": "code",
   "execution_count": 2,
   "id": "873ea03b",
   "metadata": {},
   "outputs": [
    {
     "name": "stdout",
     "output_type": "stream",
     "text": [
      "[*********************100%***********************]  1 of 1 completed\n"
     ]
    }
   ],
   "source": [
    "#銘柄コード入力\n",
    "ticker = \"AAPL\"\n",
    "\n",
    "#1900-01-01以降の株価取得\n",
    "start = dt.date(1900,1,1)\n",
    "end = dt.date.today()\n",
    "\n",
    "#データ取得\n",
    "yf.pdr_override()\n",
    "df = pdr.get_data_yahoo(ticker, start, end)\n",
    "df.sort_index(inplace=True)\n",
    "df.reset_index(inplace=True)\n",
    "\n",
    "#1列目に銘柄コード追加\n",
    "df.insert(0, \"code\", ticker, allow_duplicates=False)\n",
    "\n",
    "#csv保存\n",
    "dr_path = \"data/yahoo\"\n",
    "os.makedirs(dr_path, exist_ok=True)\n",
    "df.to_csv(dr_path + '/' + ticker + '.csv', index=False)"
   ]
  },
  {
   "cell_type": "code",
   "execution_count": 3,
   "id": "a0a469b3",
   "metadata": {},
   "outputs": [
    {
     "data": {
      "text/html": [
       "<div>\n",
       "<style scoped>\n",
       "    .dataframe tbody tr th:only-of-type {\n",
       "        vertical-align: middle;\n",
       "    }\n",
       "\n",
       "    .dataframe tbody tr th {\n",
       "        vertical-align: top;\n",
       "    }\n",
       "\n",
       "    .dataframe thead th {\n",
       "        text-align: right;\n",
       "    }\n",
       "</style>\n",
       "<table border=\"1\" class=\"dataframe\">\n",
       "  <thead>\n",
       "    <tr style=\"text-align: right;\">\n",
       "      <th></th>\n",
       "      <th>code</th>\n",
       "      <th>Date</th>\n",
       "      <th>Open</th>\n",
       "      <th>High</th>\n",
       "      <th>Low</th>\n",
       "      <th>Close</th>\n",
       "      <th>Adj Close</th>\n",
       "      <th>Volume</th>\n",
       "    </tr>\n",
       "  </thead>\n",
       "  <tbody>\n",
       "    <tr>\n",
       "      <th>0</th>\n",
       "      <td>AAPL</td>\n",
       "      <td>1980-12-12</td>\n",
       "      <td>0.128348</td>\n",
       "      <td>0.128906</td>\n",
       "      <td>0.128348</td>\n",
       "      <td>0.128348</td>\n",
       "      <td>0.099722</td>\n",
       "      <td>469033600</td>\n",
       "    </tr>\n",
       "    <tr>\n",
       "      <th>1</th>\n",
       "      <td>AAPL</td>\n",
       "      <td>1980-12-15</td>\n",
       "      <td>0.122210</td>\n",
       "      <td>0.122210</td>\n",
       "      <td>0.121652</td>\n",
       "      <td>0.121652</td>\n",
       "      <td>0.094519</td>\n",
       "      <td>175884800</td>\n",
       "    </tr>\n",
       "    <tr>\n",
       "      <th>2</th>\n",
       "      <td>AAPL</td>\n",
       "      <td>1980-12-16</td>\n",
       "      <td>0.113281</td>\n",
       "      <td>0.113281</td>\n",
       "      <td>0.112723</td>\n",
       "      <td>0.112723</td>\n",
       "      <td>0.087582</td>\n",
       "      <td>105728000</td>\n",
       "    </tr>\n",
       "  </tbody>\n",
       "</table>\n",
       "</div>"
      ],
      "text/plain": [
       "   code       Date      Open      High       Low     Close  Adj Close  \\\n",
       "0  AAPL 1980-12-12  0.128348  0.128906  0.128348  0.128348   0.099722   \n",
       "1  AAPL 1980-12-15  0.122210  0.122210  0.121652  0.121652   0.094519   \n",
       "2  AAPL 1980-12-16  0.113281  0.113281  0.112723  0.112723   0.087582   \n",
       "\n",
       "      Volume  \n",
       "0  469033600  \n",
       "1  175884800  \n",
       "2  105728000  "
      ]
     },
     "execution_count": 3,
     "metadata": {},
     "output_type": "execute_result"
    }
   ],
   "source": [
    "df.head(3)"
   ]
  },
  {
   "cell_type": "code",
   "execution_count": null,
   "id": "a85d8500",
   "metadata": {},
   "outputs": [],
   "source": []
  }
 ],
 "metadata": {
  "kernelspec": {
   "display_name": "Python 3 (ipykernel)",
   "language": "python",
   "name": "python3"
  },
  "language_info": {
   "codemirror_mode": {
    "name": "ipython",
    "version": 3
   },
   "file_extension": ".py",
   "mimetype": "text/x-python",
   "name": "python",
   "nbconvert_exporter": "python",
   "pygments_lexer": "ipython3",
   "version": "3.10.9"
  }
 },
 "nbformat": 4,
 "nbformat_minor": 5
}
