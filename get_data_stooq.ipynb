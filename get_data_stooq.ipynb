{
 "cells": [
  {
   "cell_type": "markdown",
   "id": "8e85507a",
   "metadata": {},
   "source": [
    "# get_data_stooq\n",
    "## 概要\n",
    "- pandas_datareaderを用いる\n",
    "- stooqより株価データを取得する\n",
    "- 株価データをcsvファイルに保存する\n",
    "## 参考\n",
    "### Pythonで日本の株価を取得する方法\n",
    "* https://techblog.gmo-ap.jp/2022/06/07/pythonstockdata/\n",
    "### stooqでの株価取得\n",
    "* https://stooq.com/q/d/?s=4784.jp\n",
    "###  install packages\n",
    "* pip install pandas_datareader"
   ]
  },
  {
   "cell_type": "code",
   "execution_count": 1,
   "id": "24ffd894",
   "metadata": {},
   "outputs": [],
   "source": [
    "import os\n",
    "import datetime as dt\n",
    "import pandas as pd\n",
    "import pandas_datareader.data as web"
   ]
  },
  {
   "cell_type": "code",
   "execution_count": 2,
   "id": "6c6d874a",
   "metadata": {},
   "outputs": [],
   "source": [
    "#銘柄コード入力(7177はGMO-APです。)\n",
    "ticker_symbol = \"7177\"\n",
    "ticker_symbol_dr = ticker_symbol + \".JP\"\n",
    "\n",
    "#1900-01-01以降の株価取得\n",
    "start = '1900-01-01'\n",
    "end = dt.date.today()\n",
    " \n",
    "#データ取得\n",
    "df = web.DataReader(ticker_symbol_dr, data_source='stooq', start=start, end=end)\n",
    "df.sort_index(inplace=True)\n",
    "df.reset_index(inplace=True)\n",
    "\n",
    "#1列目に銘柄コード追加\n",
    "df.insert(0, \"code\", ticker_symbol, allow_duplicates=False)\n",
    "\n",
    "#csv保存\n",
    "dr_path = \"data/stoop\"\n",
    "os.makedirs(dr_path, exist_ok=True)\n",
    "df.to_csv(dr_path + '/' + ticker_symbol + '.csv', index=False)"
   ]
  },
  {
   "cell_type": "code",
   "execution_count": 3,
   "id": "c727dbb7",
   "metadata": {},
   "outputs": [
    {
     "data": {
      "text/html": [
       "<div>\n",
       "<style scoped>\n",
       "    .dataframe tbody tr th:only-of-type {\n",
       "        vertical-align: middle;\n",
       "    }\n",
       "\n",
       "    .dataframe tbody tr th {\n",
       "        vertical-align: top;\n",
       "    }\n",
       "\n",
       "    .dataframe thead th {\n",
       "        text-align: right;\n",
       "    }\n",
       "</style>\n",
       "<table border=\"1\" class=\"dataframe\">\n",
       "  <thead>\n",
       "    <tr style=\"text-align: right;\">\n",
       "      <th></th>\n",
       "      <th>code</th>\n",
       "      <th>Date</th>\n",
       "      <th>Open</th>\n",
       "      <th>High</th>\n",
       "      <th>Low</th>\n",
       "      <th>Close</th>\n",
       "      <th>Volume</th>\n",
       "    </tr>\n",
       "  </thead>\n",
       "  <tbody>\n",
       "    <tr>\n",
       "      <th>0</th>\n",
       "      <td>7177</td>\n",
       "      <td>2015-04-01</td>\n",
       "      <td>1281.73</td>\n",
       "      <td>1294.50</td>\n",
       "      <td>1112.05</td>\n",
       "      <td>1114.80</td>\n",
       "      <td>130553</td>\n",
       "    </tr>\n",
       "    <tr>\n",
       "      <th>1</th>\n",
       "      <td>7177</td>\n",
       "      <td>2015-04-02</td>\n",
       "      <td>1140.34</td>\n",
       "      <td>1140.34</td>\n",
       "      <td>1013.52</td>\n",
       "      <td>1045.45</td>\n",
       "      <td>81773</td>\n",
       "    </tr>\n",
       "    <tr>\n",
       "      <th>2</th>\n",
       "      <td>7177</td>\n",
       "      <td>2015-04-03</td>\n",
       "      <td>1038.16</td>\n",
       "      <td>1055.50</td>\n",
       "      <td>1013.52</td>\n",
       "      <td>1021.75</td>\n",
       "      <td>25650</td>\n",
       "    </tr>\n",
       "  </tbody>\n",
       "</table>\n",
       "</div>"
      ],
      "text/plain": [
       "   code       Date     Open     High      Low    Close  Volume\n",
       "0  7177 2015-04-01  1281.73  1294.50  1112.05  1114.80  130553\n",
       "1  7177 2015-04-02  1140.34  1140.34  1013.52  1045.45   81773\n",
       "2  7177 2015-04-03  1038.16  1055.50  1013.52  1021.75   25650"
      ]
     },
     "execution_count": 3,
     "metadata": {},
     "output_type": "execute_result"
    }
   ],
   "source": [
    "df.head(3)"
   ]
  },
  {
   "cell_type": "code",
   "execution_count": null,
   "id": "853f74f0",
   "metadata": {},
   "outputs": [],
   "source": []
  }
 ],
 "metadata": {
  "kernelspec": {
   "display_name": "Python 3 (ipykernel)",
   "language": "python",
   "name": "python3"
  },
  "language_info": {
   "codemirror_mode": {
    "name": "ipython",
    "version": 3
   },
   "file_extension": ".py",
   "mimetype": "text/x-python",
   "name": "python",
   "nbconvert_exporter": "python",
   "pygments_lexer": "ipython3",
   "version": "3.10.9"
  }
 },
 "nbformat": 4,
 "nbformat_minor": 5
}
