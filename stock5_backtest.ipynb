{
 "cells": [
  {
   "cell_type": "markdown",
   "id": "22c08ed1",
   "metadata": {},
   "source": [
    "# stock5_backtest\n",
    "## 概要\n",
    "* yahoo financeより株価データを取得する\n",
    "* 株価データに対して、事前に定義した売買ルールに基づくバックテストを行う\n",
    "  * 売買ルールには条件（ハイパーパラメータ）を設定する\n",
    "  * バックテストの実行により、売買ルールにとって最適なハイパーパラメータを探索する\n",
    "## 参考\n",
    "### キノコード：株価のデータ分析(5)\n",
    "* https://youtu.be/ihuKk8lFVb8\n",
    "### install packages\n",
    "* pip install pandas_datareader"
   ]
  },
  {
   "cell_type": "markdown",
   "id": "35b77634",
   "metadata": {},
   "source": [
    "### バックテストとは\n",
    "* システムトレードの有効性を検証する方法\n",
    "* 過去のデータを用いて、その売買ルールならどのくらいの損益だったかをシミュレーションする\n",
    "### 検証ルール\n",
    "#### 検証期間\n",
    "* 2021.01.04～2021.12.02\n",
    "#### 軍資金\n",
    "* \\1,000,000\n",
    "#### 対象銘柄\n",
    "* 日経平均連動型ETF\n",
    "#### 売買ルール\n",
    "* ゴールデンクロスとデッドクロス\n",
    "  * ゴールデンクロス発生で買い\n",
    "  * デッドクロス発生で売り\n",
    "* 利益確定と損切りの金額はあらかじめ決めておく\n",
    "  * ETF > 利益確定の金額 で売り\n",
    "  * ETF < 損切りの金額 で売り\n",
    "* 手数料 50円/1回\n",
    "#### 検証条件\n",
    "* ゴールデンクロスとデッドクロス発生判定に用いる移動平均日数\n",
    "  * 2～31日までを2日刻みで組み合わせを検証\n",
    "* 利益確定と損切りの金額\n",
    "  * 50円～500円まで10円刻みで検証\n",
    "* 上記条件から、利益が最大となるルールを見つける"
   ]
  },
  {
   "cell_type": "code",
   "execution_count": 3,
   "id": "004540b5",
   "metadata": {},
   "outputs": [],
   "source": [
    "# 初期値を定義\n",
    "ASSET = 1000000\n",
    "spreed = 50\n",
    "\n",
    "start = '2021-01-04'\n",
    "end = '2021-12-02'\n",
    "\n",
    "# 変数を定義\n",
    "asset_total_max, wins_total_max, loses_total_max = ASSET, 0, 0\n",
    "span_large_total_max, span_small_total_max = 0, 0\n",
    "profit_diff_max, loss_diff_max = 0,0"
   ]
  },
  {
   "cell_type": "code",
   "execution_count": 4,
   "id": "744be2cc",
   "metadata": {},
   "outputs": [],
   "source": [
    "### ソースコードが未公開（残念）\n",
    "### 以下は想定される処理内容\n",
    "\n",
    "### 売買ルール実行関数の定義\n",
    "# 初日から1日単位に買い、売り、売買無しを判定\n",
    "# 最終日に買い状態の場合は売り\n",
    "# 損益をリターン\n",
    "\n",
    "### ハイパーパラメータ探索の定義\n",
    "# 何らかのライブラリ（optunaなど）\n",
    "# パラメータ空間の定義\n",
    "# 長期・短期の移動平均日数 2～31日までを2日刻み\n",
    "# 利益確定と損切りの金額 50円～500円まで10円刻み\n",
    "\n",
    "### 初期値の設定\n",
    "# 各初期値\n",
    "# 株価データの取得\n",
    "\n",
    "### ハイパーパラメータ探索の実行\n",
    "# 対象関数、パラメータ空間、評価方法などを指定して実行\n"
   ]
  },
  {
   "cell_type": "code",
   "execution_count": null,
   "id": "9437758a",
   "metadata": {},
   "outputs": [],
   "source": []
  }
 ],
 "metadata": {
  "kernelspec": {
   "display_name": "Python 3 (ipykernel)",
   "language": "python",
   "name": "python3"
  },
  "language_info": {
   "codemirror_mode": {
    "name": "ipython",
    "version": 3
   },
   "file_extension": ".py",
   "mimetype": "text/x-python",
   "name": "python",
   "nbconvert_exporter": "python",
   "pygments_lexer": "ipython3",
   "version": "3.10.9"
  }
 },
 "nbformat": 4,
 "nbformat_minor": 5
}
